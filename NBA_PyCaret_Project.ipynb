{
 "cells": [
  {
   "cell_type": "markdown",
   "metadata": {},
   "source": [
    "### 1.  Import relevant libraries"
   ]
  },
  {
   "cell_type": "code",
   "execution_count": 2,
   "metadata": {},
   "outputs": [],
   "source": [
    "from datetime import datetime\n",
    "import pandas as pd\n",
    "import seaborn as sns"
   ]
  },
  {
   "cell_type": "markdown",
   "metadata": {},
   "source": [
    "### 2. Creating df using web scraping method to extract NBA data frame"
   ]
  },
  {
   "cell_type": "code",
   "execution_count": 3,
   "metadata": {},
   "outputs": [],
   "source": [
    "URL = 'https://www.nbastuffer.com/2021-2022-nba-player-stats/'\n",
    "tables = pd.read_html(URL,match=\"PPG\")\n",
    "######################################\n",
    "NBA_Data = tables[0]\n",
    "format = \"%Y-%m-%d %H:%M:%S\"\n",
    "NBA_Data['Current_Refresh'] = datetime.now().strftime(format)"
   ]
  },
  {
   "cell_type": "markdown",
   "metadata": {},
   "source": [
    "### 3. import pycaret library \n",
    "   #### 3.1 creating clusters\n",
    "   #### 3.2 detect annomaly by using isolation forest model"
   ]
  },
  {
   "cell_type": "code",
   "execution_count": 5,
   "metadata": {},
   "outputs": [],
   "source": [
    "from pycaret.clustering import *\n",
    "NBA_Data = get_clusters(data = NBA_Data)\n",
    "######################################\n",
    "from pycaret.anomaly import *\n",
    "NBA_Data_final = get_outliers(NBA_Data, model = 'iforest', fraction = 0.1)\n",
    "######################################"
   ]
  }
 ],
 "metadata": {
  "kernelspec": {
   "display_name": "Python 3",
   "language": "python",
   "name": "python3"
  },
  "language_info": {
   "codemirror_mode": {
    "name": "ipython",
    "version": 3
   },
   "file_extension": ".py",
   "mimetype": "text/x-python",
   "name": "python",
   "nbconvert_exporter": "python",
   "pygments_lexer": "ipython3",
   "version": "3.8.3"
  }
 },
 "nbformat": 4,
 "nbformat_minor": 4
}
